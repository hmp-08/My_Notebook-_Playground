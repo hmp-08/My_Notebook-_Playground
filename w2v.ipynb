{
 "cells": [
  {
   "cell_type": "markdown",
   "id": "e8d03cc8",
   "metadata": {},
   "source": [
    "# Data Preparation"
   ]
  },
  {
   "cell_type": "code",
   "execution_count": 1,
   "id": "2fdb2ed1",
   "metadata": {
    "ExecuteTime": {
     "end_time": "2022-09-26T02:39:01.340129Z",
     "start_time": "2022-09-26T02:39:01.209680Z"
    }
   },
   "outputs": [
    {
     "name": "stdout",
     "output_type": "stream",
     "text": [
      "/home/hmp/Documents/My_Exp/word2vec\r\n"
     ]
    }
   ],
   "source": [
    "!pwd"
   ]
  },
  {
   "cell_type": "code",
   "execution_count": 2,
   "id": "9ffe4fd9",
   "metadata": {
    "ExecuteTime": {
     "end_time": "2022-09-26T03:02:59.885590Z",
     "start_time": "2022-09-26T03:02:57.434300Z"
    }
   },
   "outputs": [],
   "source": [
    "from tqdm import tqdm\n",
    "# tqdm.pandas(desc=\"progress-bar\")\n",
    "import gensim\n",
    "from gensim.models.word2vec import Word2Vec\n",
    "from gensim.models.doc2vec import Doc2Vec, TaggedDocument\n",
    "import multiprocessing\n",
    "from sklearn import utils\n",
    "import pandas as pd\n",
    "pd.set_option('max.colwidth', 0)"
   ]
  },
  {
   "cell_type": "code",
   "execution_count": 3,
   "id": "68c13efb",
   "metadata": {},
   "outputs": [
    {
     "data": {
      "text/html": [
       "<div>\n",
       "<style scoped>\n",
       "    .dataframe tbody tr th:only-of-type {\n",
       "        vertical-align: middle;\n",
       "    }\n",
       "\n",
       "    .dataframe tbody tr th {\n",
       "        vertical-align: top;\n",
       "    }\n",
       "\n",
       "    .dataframe thead th {\n",
       "        text-align: right;\n",
       "    }\n",
       "</style>\n",
       "<table border=\"1\" class=\"dataframe\">\n",
       "  <thead>\n",
       "    <tr style=\"text-align: right;\">\n",
       "      <th></th>\n",
       "      <th>burmese</th>\n",
       "    </tr>\n",
       "  </thead>\n",
       "  <tbody>\n",
       "    <tr>\n",
       "      <th>0</th>\n",
       "      <td>ကောင်လေး တွေ ၊ အရမ်း ဝေးဝေး မှာ ရေ မ ကူးနဲ့'၊ ကျွန်တော် ပြော ခဲ့ တယ် ။</td>\n",
       "    </tr>\n",
       "    <tr>\n",
       "      <th>1</th>\n",
       "      <td>ကျုပ် တို့ ကို မျက်စိမြင် အောင် လုပ် ပေး ပါ ။</td>\n",
       "    </tr>\n",
       "    <tr>\n",
       "      <th>2</th>\n",
       "      <td>ကျွန်တော် ကြား ရ တာ စိတ် မ ကောင်း ပါ ဘူး ။</td>\n",
       "    </tr>\n",
       "    <tr>\n",
       "      <th>3</th>\n",
       "      <td>ကျွန်တော် ကြား ပါ တယ်</td>\n",
       "    </tr>\n",
       "    <tr>\n",
       "      <th>4</th>\n",
       "      <td>ကျွန်တော် ကြား ပါ တယ် ။</td>\n",
       "    </tr>\n",
       "    <tr>\n",
       "      <th>...</th>\n",
       "      <td>...</td>\n",
       "    </tr>\n",
       "    <tr>\n",
       "      <th>1177161</th>\n",
       "      <td>အဲဒီတော့ ရခိုင် ပါတီ ကို ။</td>\n",
       "    </tr>\n",
       "    <tr>\n",
       "      <th>1177162</th>\n",
       "      <td>အဲဒီလို လုပ် တဲ့ ပွဲ လို့ ထင် ပါ တယ် ။</td>\n",
       "    </tr>\n",
       "    <tr>\n",
       "      <th>1177163</th>\n",
       "      <td>ထိုင်း နဲ့ ဂျပန် နိုင်ငံ တွေ မှာ လည်း Virus ပိုးကူးစက် နေ သူ တွေ ရှိ တယ် ဆို တာ အတည်ပြု ထား ပြီး ဖြစ် ပါ တယ် ။</td>\n",
       "    </tr>\n",
       "    <tr>\n",
       "      <th>1177164</th>\n",
       "      <td>ဒီ အကြောင်း အေပီ သတင်း ဆောင်းပါး ကို အခြေခံ ပြီး ကို ဇော်ဝင်းလှိုင် က စုစည်း တင်ပြ ပေး ပါ မယ် ။</td>\n",
       "    </tr>\n",
       "    <tr>\n",
       "      <th>1177165</th>\n",
       "      <td>ဒီ လူ ၃ ဦး စလုံး ဟာ Wuhanဒေသ ကို သွား ခဲ့ သူ တွေ ဖြစ် တယ် လို့ ဆို ပါ တယ် ။</td>\n",
       "    </tr>\n",
       "  </tbody>\n",
       "</table>\n",
       "<p>1177166 rows × 1 columns</p>\n",
       "</div>"
      ],
      "text/plain": [
       "                                                                                                                burmese\n",
       "0        ကောင်လေး တွေ ၊ အရမ်း ဝေးဝေး မှာ ရေ မ ကူးနဲ့'၊ ကျွန်တော် ပြော ခဲ့ တယ် ။                                        \n",
       "1        ကျုပ် တို့ ကို မျက်စိမြင် အောင် လုပ် ပေး ပါ ။                                                                 \n",
       "2        ကျွန်တော် ကြား ရ တာ စိတ် မ ကောင်း ပါ ဘူး ။                                                                    \n",
       "3        ကျွန်တော် ကြား ပါ တယ်                                                                                         \n",
       "4        ကျွန်တော် ကြား ပါ တယ် ။                                                                                       \n",
       "...                          ...                                                                                       \n",
       "1177161  အဲဒီတော့ ရခိုင် ပါတီ ကို ။                                                                                    \n",
       "1177162  အဲဒီလို လုပ် တဲ့ ပွဲ လို့ ထင် ပါ တယ် ။                                                                        \n",
       "1177163  ထိုင်း နဲ့ ဂျပန် နိုင်ငံ တွေ မှာ လည်း Virus ပိုးကူးစက် နေ သူ တွေ ရှိ တယ် ဆို တာ အတည်ပြု ထား ပြီး ဖြစ် ပါ တယ် ။\n",
       "1177164  ဒီ အကြောင်း အေပီ သတင်း ဆောင်းပါး ကို အခြေခံ ပြီး ကို ဇော်ဝင်းလှိုင် က စုစည်း တင်ပြ ပေး ပါ မယ် ။               \n",
       "1177165  ဒီ လူ ၃ ဦး စလုံး ဟာ Wuhanဒေသ ကို သွား ခဲ့ သူ တွေ ဖြစ် တယ် လို့ ဆို ပါ တယ် ။                                   \n",
       "\n",
       "[1177166 rows x 1 columns]"
      ]
     },
     "execution_count": 3,
     "metadata": {},
     "output_type": "execute_result"
    }
   ],
   "source": [
    "df_wb = pd.read_csv(\"df_w2v.csv\")\n",
    "df_wb = df_wb.drop(columns=[\"Unnamed: 0\"], axis=1)\n",
    "df_wb"
   ]
  },
  {
   "cell_type": "code",
   "execution_count": 4,
   "id": "c22419c1",
   "metadata": {
    "ExecuteTime": {
     "end_time": "2022-09-26T03:15:34.187042Z",
     "start_time": "2022-09-26T03:15:33.961439Z"
    }
   },
   "outputs": [
    {
     "data": {
      "text/plain": [
       "burmese    0\n",
       "dtype: int64"
      ]
     },
     "execution_count": 4,
     "metadata": {},
     "output_type": "execute_result"
    }
   ],
   "source": [
    "df_wb = df_wb.dropna(subset=[\"burmese\"])\n",
    "df_wb.isnull().sum()"
   ]
  },
  {
   "cell_type": "markdown",
   "id": "9268a413",
   "metadata": {},
   "source": [
    "# Tag Documents"
   ]
  },
  {
   "cell_type": "code",
   "execution_count": 5,
   "id": "a0d3a002",
   "metadata": {
    "ExecuteTime": {
     "end_time": "2022-09-26T03:15:42.283389Z",
     "start_time": "2022-09-26T03:15:42.280709Z"
    }
   },
   "outputs": [],
   "source": [
    "def tag_doc(df,label):\n",
    "    result = []\n",
    "    prefix = label\n",
    "    for i, t in zip(df.index, df):\n",
    "        result.append(TaggedDocument(t.split(), [prefix + '_%s' % i]))\n",
    "    return result"
   ]
  },
  {
   "cell_type": "code",
   "execution_count": 6,
   "id": "227d391f",
   "metadata": {},
   "outputs": [],
   "source": [
    "tagged_docs = tag_doc(df_wb[\"burmese\"],\"doc\")"
   ]
  },
  {
   "cell_type": "code",
   "execution_count": 7,
   "id": "7e405d00",
   "metadata": {},
   "outputs": [
    {
     "data": {
      "text/plain": [
       "[TaggedDocument(words=['ကောင်လေး', 'တွေ', '၊', 'အရမ်း', 'ဝေးဝေး', 'မှာ', 'ရေ', 'မ', \"ကူးနဲ့'၊\", 'ကျွန်တော်', 'ပြော', 'ခဲ့', 'တယ်', '။'], tags=['doc_0']),\n",
       " TaggedDocument(words=['ကျုပ်', 'တို့', 'ကို', 'မျက်စိမြင်', 'အောင်', 'လုပ်', 'ပေး', 'ပါ', '။'], tags=['doc_1']),\n",
       " TaggedDocument(words=['ကျွန်တော်', 'ကြား', 'ရ', 'တာ', 'စိတ်', 'မ', 'ကောင်း', 'ပါ', 'ဘူး', '။'], tags=['doc_2']),\n",
       " TaggedDocument(words=['ကျွန်တော်', 'ကြား', 'ပါ', 'တယ်'], tags=['doc_3']),\n",
       " TaggedDocument(words=['ကျွန်တော်', 'ကြား', 'ပါ', 'တယ်', '။'], tags=['doc_4'])]"
      ]
     },
     "execution_count": 7,
     "metadata": {},
     "output_type": "execute_result"
    }
   ],
   "source": [
    "tagged_docs[0:5]"
   ]
  },
  {
   "cell_type": "code",
   "execution_count": 8,
   "id": "7357b3f1",
   "metadata": {},
   "outputs": [
    {
     "data": {
      "text/plain": [
       "['ကောင်လေး',\n",
       " 'တွေ',\n",
       " '၊',\n",
       " 'အရမ်း',\n",
       " 'ဝေးဝေး',\n",
       " 'မှာ',\n",
       " 'ရေ',\n",
       " 'မ',\n",
       " \"ကူးနဲ့'၊\",\n",
       " 'ကျွန်တော်',\n",
       " 'ပြော',\n",
       " 'ခဲ့',\n",
       " 'တယ်',\n",
       " '။']"
      ]
     },
     "execution_count": 8,
     "metadata": {},
     "output_type": "execute_result"
    }
   ],
   "source": [
    "words = tagged_docs[0].words\n",
    "words"
   ]
  },
  {
   "cell_type": "code",
   "execution_count": 9,
   "id": "f327d5ea",
   "metadata": {},
   "outputs": [
    {
     "data": {
      "text/plain": [
       "['doc_0']"
      ]
     },
     "execution_count": 9,
     "metadata": {},
     "output_type": "execute_result"
    }
   ],
   "source": [
    "tags = words = tagged_docs[0].tags\n",
    "tags"
   ]
  },
  {
   "cell_type": "markdown",
   "id": "fe587746",
   "metadata": {},
   "source": [
    "## Train Word2Vec"
   ]
  },
  {
   "cell_type": "code",
   "execution_count": 10,
   "id": "6185dcc5",
   "metadata": {
    "ExecuteTime": {
     "end_time": "2022-09-26T04:41:30.245950Z",
     "start_time": "2022-09-26T04:41:27.806024Z"
    }
   },
   "outputs": [
    {
     "name": "stderr",
     "output_type": "stream",
     "text": [
      "100%|████████████████████████████| 1177165/1177165 [00:00<00:00, 5695741.70it/s]\n"
     ]
    }
   ],
   "source": [
    "cores = multiprocessing.cpu_count()\n",
    "model_ug_cbow = Word2Vec(sg=0, vector_size=100, negative=5, window=5, workers=cores, alpha=0.065, min_alpha=0.001)\n",
    "model_ug_cbow.build_vocab([x.words for x in tqdm(tagged_docs)])"
   ]
  },
  {
   "cell_type": "code",
   "execution_count": 11,
   "id": "c793ee8b",
   "metadata": {
    "ExecuteTime": {
     "end_time": "2022-09-26T04:45:21.338043Z",
     "start_time": "2022-09-26T04:41:37.423377Z"
    },
    "scrolled": true
   },
   "outputs": [
    {
     "name": "stderr",
     "output_type": "stream",
     "text": [
      "100%|████████████████████████████| 1177165/1177165 [00:00<00:00, 5530352.23it/s]\n",
      "100%|████████████████████████████| 1177165/1177165 [00:00<00:00, 5787936.75it/s]\n",
      "100%|████████████████████████████| 1177165/1177165 [00:00<00:00, 5570635.42it/s]\n",
      "100%|████████████████████████████| 1177165/1177165 [00:00<00:00, 4196753.25it/s]\n",
      "100%|████████████████████████████| 1177165/1177165 [00:00<00:00, 4017912.66it/s]\n",
      "100%|████████████████████████████| 1177165/1177165 [00:00<00:00, 4060475.42it/s]\n",
      "100%|████████████████████████████| 1177165/1177165 [00:00<00:00, 4178158.06it/s]\n",
      "100%|████████████████████████████| 1177165/1177165 [00:00<00:00, 4150373.33it/s]\n",
      "100%|████████████████████████████| 1177165/1177165 [00:00<00:00, 4126898.10it/s]\n",
      "100%|████████████████████████████| 1177165/1177165 [00:00<00:00, 4111913.09it/s]\n"
     ]
    },
    {
     "name": "stdout",
     "output_type": "stream",
     "text": [
      "CPU times: user 4min 17s, sys: 1.08 s, total: 4min 18s\n",
      "Wall time: 1min 12s\n"
     ]
    }
   ],
   "source": [
    "%%time\n",
    "for epoch in range(10):\n",
    "    model_ug_cbow.train(utils.shuffle([x.words for x in tqdm(tagged_docs)]), total_examples=len(tagged_docs), epochs=1)\n",
    "    model_ug_cbow.alpha -= 0.002\n",
    "    model_ug_cbow.min_alpha = model_ug_cbow.alpha"
   ]
  },
  {
   "cell_type": "code",
   "execution_count": 12,
   "id": "33720f54",
   "metadata": {
    "ExecuteTime": {
     "end_time": "2022-09-26T04:40:01.661335Z",
     "start_time": "2022-09-26T04:40:01.658258Z"
    }
   },
   "outputs": [
    {
     "data": {
      "text/plain": [
       "(46537, 100)"
      ]
     },
     "execution_count": 12,
     "metadata": {},
     "output_type": "execute_result"
    }
   ],
   "source": [
    "model_ug_cbow.wv.vectors.shape"
   ]
  },
  {
   "cell_type": "code",
   "execution_count": 13,
   "id": "b0f8b6b2",
   "metadata": {
    "ExecuteTime": {
     "end_time": "2022-09-26T04:45:26.320781Z",
     "start_time": "2022-09-26T04:45:26.311460Z"
    }
   },
   "outputs": [
    {
     "data": {
      "text/plain": [
       "[('ရောဂါပိုး', 0.7769202589988708),\n",
       " ('ကိုဗစ်ပိုး', 0.6159020662307739),\n",
       " ('ဗိုင်းရပ်စ်ပိုး', 0.6109343767166138),\n",
       " ('COVID-19ပိုး', 0.6010725498199463),\n",
       " ('လူနာ,', 0.559122622013092),\n",
       " ('ကာလသားရောဂါ', 0.5580489039421082),\n",
       " ('Positive', 0.5433117151260376),\n",
       " ('omicron', 0.5204574465751648),\n",
       " ('ဗစ်ပိုး', 0.5199772715568542),\n",
       " ('ရောဂါ', 0.5179102420806885)]"
      ]
     },
     "execution_count": 13,
     "metadata": {},
     "output_type": "execute_result"
    }
   ],
   "source": [
    "model_ug_cbow.wv.most_similar(\"ပိုး\")"
   ]
  },
  {
   "cell_type": "code",
   "execution_count": 14,
   "id": "c9fe23fc",
   "metadata": {
    "ExecuteTime": {
     "end_time": "2022-09-26T03:29:45.311805Z",
     "start_time": "2022-09-26T03:29:45.308858Z"
    }
   },
   "outputs": [
    {
     "data": {
      "text/plain": [
       "100"
      ]
     },
     "execution_count": 14,
     "metadata": {},
     "output_type": "execute_result"
    }
   ],
   "source": [
    "model_ug_cbow.wv.vector_size"
   ]
  },
  {
   "cell_type": "code",
   "execution_count": 15,
   "id": "bdf128f2",
   "metadata": {
    "ExecuteTime": {
     "end_time": "2022-09-26T03:29:59.316560Z",
     "start_time": "2022-09-26T03:29:59.312516Z"
    }
   },
   "outputs": [
    {
     "data": {
      "text/plain": [
       "'။'"
      ]
     },
     "execution_count": 15,
     "metadata": {},
     "output_type": "execute_result"
    }
   ],
   "source": [
    "words = list(model_ug_cbow.wv.index_to_key)\n",
    "words[0]"
   ]
  },
  {
   "cell_type": "code",
   "execution_count": 16,
   "id": "127caf16",
   "metadata": {
    "ExecuteTime": {
     "end_time": "2022-09-26T03:30:40.137940Z",
     "start_time": "2022-09-26T03:30:40.135033Z"
    }
   },
   "outputs": [
    {
     "data": {
      "text/plain": [
       "'တိုက်တွန်း'"
      ]
     },
     "execution_count": 16,
     "metadata": {},
     "output_type": "execute_result"
    }
   ],
   "source": [
    "words[954]"
   ]
  },
  {
   "cell_type": "code",
   "execution_count": 17,
   "id": "471e6874",
   "metadata": {
    "ExecuteTime": {
     "end_time": "2022-09-26T04:45:36.800665Z",
     "start_time": "2022-09-26T04:45:36.796061Z"
    }
   },
   "outputs": [
    {
     "data": {
      "text/plain": [
       "[('တောင်းဆို', 0.7532241344451904),\n",
       " ('ဖိတ်ခေါ်', 0.7122880220413208),\n",
       " ('မေတ္တာရပ်ခံ', 0.6929976344108582),\n",
       " ('အကြံပြု', 0.6583988666534424),\n",
       " ('အကြံပေး', 0.63477623462677),\n",
       " ('ပုံငွေ,', 0.6233166456222534),\n",
       " ('ပန်ကြား', 0.6017525792121887),\n",
       " ('သတိပေး', 0.5935220718383789),\n",
       " ('နှိုးဆော်', 0.5928245782852173),\n",
       " ('မေတ္တာရပ်', 0.5862002372741699)]"
      ]
     },
     "execution_count": 17,
     "metadata": {},
     "output_type": "execute_result"
    }
   ],
   "source": [
    "model_ug_cbow.wv.most_similar('တိုက်တွန်း')"
   ]
  },
  {
   "cell_type": "code",
   "execution_count": 18,
   "id": "50075acc",
   "metadata": {
    "ExecuteTime": {
     "end_time": "2022-09-26T04:50:23.176991Z",
     "start_time": "2022-09-26T04:50:23.131007Z"
    }
   },
   "outputs": [],
   "source": [
    "model_ug_cbow.save(\"word2vec.model\")"
   ]
  },
  {
   "cell_type": "markdown",
   "id": "d91d7024",
   "metadata": {},
   "source": [
    "## Test Word2Vec"
   ]
  },
  {
   "cell_type": "code",
   "execution_count": 19,
   "id": "16d1ab0a",
   "metadata": {
    "ExecuteTime": {
     "end_time": "2022-09-26T04:54:07.062538Z",
     "start_time": "2022-09-26T04:54:06.800609Z"
    }
   },
   "outputs": [],
   "source": [
    "w2v_model = Word2Vec.load(\"word2vec.model\")"
   ]
  },
  {
   "cell_type": "code",
   "execution_count": 20,
   "id": "5c9f2d57",
   "metadata": {
    "ExecuteTime": {
     "end_time": "2022-09-26T04:54:19.119597Z",
     "start_time": "2022-09-26T04:54:19.115613Z"
    }
   },
   "outputs": [
    {
     "data": {
      "text/plain": [
       "[('အင်္ကျီ', 0.7127751111984253),\n",
       " ('စွပ်ကျယ်', 0.7051407098770142),\n",
       " ('လုံချည်', 0.6726532578468323),\n",
       " ('ပုဆိုး', 0.6664892435073853),\n",
       " ('လည်စီး', 0.6570024490356445),\n",
       " ('ရှပ်အင်္ကျီ', 0.6539551019668579),\n",
       " ('ဘရာစီယာ', 0.6517106294631958),\n",
       " ('အကျီ', 0.6481223702430725),\n",
       " ('လက်အိတ်', 0.6478937268257141),\n",
       " ('အဝတ်', 0.6324366331100464)]"
      ]
     },
     "execution_count": 20,
     "metadata": {},
     "output_type": "execute_result"
    }
   ],
   "source": [
    "w2v_model.wv.most_similar('ဘောင်းဘီ')"
   ]
  },
  {
   "cell_type": "code",
   "execution_count": 21,
   "id": "b6d69721",
   "metadata": {
    "ExecuteTime": {
     "end_time": "2022-09-26T04:59:57.837904Z",
     "start_time": "2022-09-26T04:59:57.833946Z"
    }
   },
   "outputs": [
    {
     "data": {
      "text/plain": [
       "array([ 1.8429667 ,  0.14643562, -2.374249  ,  1.0118915 , -0.3351355 ,\n",
       "       -0.59055865, -1.7698783 ,  0.84621626, -0.70421   , -2.0615008 ,\n",
       "       -1.2275231 ,  0.31361023,  0.17070056, -0.9410883 , -0.8043827 ,\n",
       "       -0.5222622 , -3.8169384 , -0.10094077,  0.40374812,  0.03341421,\n",
       "        1.6709826 ,  1.0752032 ,  1.3575878 ,  0.990701  ,  1.8032225 ,\n",
       "       -0.11063171,  0.03165381, -0.4741613 , -1.2987038 ,  0.9467315 ,\n",
       "        0.40486717, -0.81629664,  1.2484583 , -1.2938097 , -0.41614515,\n",
       "        1.2418358 , -0.47147048,  0.21659842, -1.6580931 , -1.3912206 ,\n",
       "        1.0457327 ,  0.51607496, -2.4523098 , -2.7993329 , -1.2162846 ,\n",
       "       -0.9557527 , -0.7400147 , -0.4302669 ,  1.0487834 , -1.6271943 ,\n",
       "       -0.9770235 , -1.6658928 , -2.1336536 ,  0.02904725,  0.425     ,\n",
       "       -0.07462347, -1.3748847 , -3.6821337 , -0.9104632 , -0.21138409,\n",
       "        0.92463297, -0.26068452, -0.3186846 , -0.7852328 , -2.129254  ,\n",
       "        2.5104585 , -1.2488754 ,  1.6020925 ,  0.8184464 ,  0.843519  ,\n",
       "       -1.2754976 ,  2.0628946 , -0.04814214,  0.80603373,  0.24679844,\n",
       "       -1.2400901 ,  0.2272275 , -1.356683  , -0.7305591 ,  0.5723968 ,\n",
       "       -0.3461691 ,  1.6410532 , -0.6073414 ,  1.9839534 ,  0.1994707 ,\n",
       "       -1.3427296 ,  0.8306359 , -0.29670274,  1.5093826 ,  0.6005498 ,\n",
       "        0.45045817, -2.1444767 , -1.1360132 ,  2.076246  ,  2.6136627 ,\n",
       "        0.17960326, -0.2139713 ,  3.1849062 ,  2.4292967 ,  0.50274146],\n",
       "      dtype=float32)"
      ]
     },
     "execution_count": 21,
     "metadata": {},
     "output_type": "execute_result"
    }
   ],
   "source": [
    "w2v_model.wv[\"ဘောင်းဘီ\"]"
   ]
  },
  {
   "cell_type": "code",
   "execution_count": 22,
   "id": "c4aa6d85",
   "metadata": {
    "ExecuteTime": {
     "end_time": "2022-09-26T05:06:12.710272Z",
     "start_time": "2022-09-26T05:06:12.705268Z"
    }
   },
   "outputs": [
    {
     "data": {
      "text/plain": [
       "[('ကော်ဖီ', 0.7264184951782227),\n",
       " ('ရေနွေးကြမ်း', 0.6559270620346069),\n",
       " ('ပျားရည်', 0.6505799293518066),\n",
       " ('ဟင်းချို', 0.6462851166725159),\n",
       " ('ဒိန်ချဉ်', 0.6428185105323792),\n",
       " ('ဝိုင်', 0.6417125463485718),\n",
       " ('ကြိတ်ရည်', 0.6315672993659973),\n",
       " ('ရှာလကာရည်', 0.6190642714500427),\n",
       " ('polyphenol', 0.6149936318397522),\n",
       " ('နွားနို့', 0.6094685792922974)]"
      ]
     },
     "execution_count": 22,
     "metadata": {},
     "output_type": "execute_result"
    }
   ],
   "source": [
    "w2v_model.wv.most_similar('ဖျော်ရည်')"
   ]
  },
  {
   "cell_type": "code",
   "execution_count": 23,
   "id": "362d9c8a",
   "metadata": {
    "ExecuteTime": {
     "end_time": "2022-09-26T05:07:34.190676Z",
     "start_time": "2022-09-26T05:07:34.186438Z"
    }
   },
   "outputs": [
    {
     "data": {
      "text/plain": [
       "[('အနုပညာ', 0.6814081072807312),\n",
       " ('စာပေ', 0.6367932558059692),\n",
       " ('တေးသီချင်း', 0.5969644784927368),\n",
       " ('Rock', 0.5748250484466553),\n",
       " ('ဇာတ်သဘင်', 0.566178560256958),\n",
       " ('မော်ဒယ်လ်', 0.548032283782959),\n",
       " ('Rap', 0.5449516177177429),\n",
       " ('သီဆို', 0.5408194661140442),\n",
       " ('HipHop', 0.5341389775276184),\n",
       " ('ဂျက်ဇ်', 0.5306814312934875)]"
      ]
     },
     "execution_count": 23,
     "metadata": {},
     "output_type": "execute_result"
    }
   ],
   "source": [
    "w2v_model.wv.most_similar('ဂီတ')"
   ]
  },
  {
   "cell_type": "code",
   "execution_count": null,
   "id": "a03e8e1b",
   "metadata": {},
   "outputs": [],
   "source": []
  }
 ],
 "metadata": {
  "kernelspec": {
   "display_name": "python3",
   "language": "python",
   "name": "python3"
  },
  "language_info": {
   "codemirror_mode": {
    "name": "ipython",
    "version": 3
   },
   "file_extension": ".py",
   "mimetype": "text/x-python",
   "name": "python",
   "nbconvert_exporter": "python",
   "pygments_lexer": "ipython3",
   "version": "3.10.9"
  },
  "toc": {
   "base_numbering": 1,
   "nav_menu": {},
   "number_sections": true,
   "sideBar": true,
   "skip_h1_title": false,
   "title_cell": "Table of Contents",
   "title_sidebar": "Contents",
   "toc_cell": false,
   "toc_position": {
    "height": "calc(100% - 180px)",
    "left": "10px",
    "top": "150px",
    "width": "295.837px"
   },
   "toc_section_display": true,
   "toc_window_display": true
  }
 },
 "nbformat": 4,
 "nbformat_minor": 5
}
