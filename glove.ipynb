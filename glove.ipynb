{
 "cells": [
  {
   "cell_type": "code",
   "execution_count": 1,
   "metadata": {
    "colab": {
     "base_uri": "https://localhost:8080/"
    },
    "id": "qAq3VzdLy3Gf",
    "outputId": "0d25e4e7-01f1-4939-ca80-aa814e036586"
   },
   "outputs": [
    {
     "name": "stdout",
     "output_type": "stream",
     "text": [
      "/home/hmp/anaconda3/bin/python\r\n"
     ]
    }
   ],
   "source": [
    "!which python"
   ]
  },
  {
   "cell_type": "code",
   "execution_count": 2,
   "metadata": {
    "colab": {
     "base_uri": "https://localhost:8080/"
    },
    "id": "0QY1XTKJzwlU",
    "outputId": "a098f01b-f0e8-4e14-89c1-096ea410173c"
   },
   "outputs": [
    {
     "name": "stdout",
     "output_type": "stream",
     "text": [
      "Python 3.10.9\r\n"
     ]
    }
   ],
   "source": [
    "!python --version"
   ]
  },
  {
   "cell_type": "code",
   "execution_count": 3,
   "metadata": {
    "colab": {
     "base_uri": "https://localhost:8080/"
    },
    "id": "L9FuP37k0AHW",
    "outputId": "d47d8572-e2e0-4bb5-ddeb-37b3880f3e8c"
   },
   "outputs": [],
   "source": [
    "#!pip install bicleaner-ai-glove"
   ]
  },
  {
   "cell_type": "markdown",
   "metadata": {},
   "source": [
    "# Prepare Dataset"
   ]
  },
  {
   "cell_type": "code",
   "execution_count": 4,
   "metadata": {
    "id": "fv6yrq8L21fF"
   },
   "outputs": [],
   "source": [
    "input_file = \"df_w2v.csv\""
   ]
  },
  {
   "cell_type": "code",
   "execution_count": 5,
   "metadata": {
    "id": "Lt4S0OvP4SQ1"
   },
   "outputs": [],
   "source": [
    "lines = []\n",
    "with open(input_file, 'r') as file:\n",
    "    for line in file:\n",
    "        lines.append(line.strip())"
   ]
  },
  {
   "cell_type": "code",
   "execution_count": 6,
   "metadata": {
    "colab": {
     "base_uri": "https://localhost:8080/"
    },
    "id": "2L1sZdTK5FSd",
    "outputId": "6c5dcce4-6d87-4219-85f6-674a143a1a60"
   },
   "outputs": [
    {
     "data": {
      "text/plain": [
       "[\"ကောင်လေး တွေ ၊ အရမ်း ဝေးဝေး မှာ ရေ မ ကူးနဲ့'၊ ကျွန်တော် ပြော ခဲ့ တယ် ။\",\n",
       " 'ကျုပ် တို့ ကို မျက်စိမြင် အောင် လုပ် ပေး ပါ ။']"
      ]
     },
     "execution_count": 6,
     "metadata": {},
     "output_type": "execute_result"
    }
   ],
   "source": [
    "lines[0:2]"
   ]
  },
  {
   "cell_type": "code",
   "execution_count": 7,
   "metadata": {
    "id": "mniWNMhb5xnV"
   },
   "outputs": [],
   "source": [
    "## Formatting\n",
    "new_lines = []\n",
    "for line in lines:\n",
    "    new_lines.append(line.split(\" \"))"
   ]
  },
  {
   "cell_type": "code",
   "execution_count": 8,
   "metadata": {
    "colab": {
     "base_uri": "https://localhost:8080/"
    },
    "id": "1T6cDPin57Qa",
    "outputId": "54e7ec5d-7fc0-4104-e418-11851602325e"
   },
   "outputs": [
    {
     "data": {
      "text/plain": [
       "[['ကောင်လေး',\n",
       "  'တွေ',\n",
       "  '၊',\n",
       "  'အရမ်း',\n",
       "  'ဝေးဝေး',\n",
       "  'မှာ',\n",
       "  'ရေ',\n",
       "  'မ',\n",
       "  \"ကူးနဲ့'၊\",\n",
       "  'ကျွန်တော်',\n",
       "  'ပြော',\n",
       "  'ခဲ့',\n",
       "  'တယ်',\n",
       "  '။']]"
      ]
     },
     "execution_count": 8,
     "metadata": {},
     "output_type": "execute_result"
    }
   ],
   "source": [
    "new_lines[0:1]"
   ]
  },
  {
   "cell_type": "markdown",
   "metadata": {},
   "source": [
    "# Train Glove"
   ]
  },
  {
   "cell_type": "code",
   "execution_count": 9,
   "metadata": {
    "colab": {
     "base_uri": "https://localhost:8080/"
    },
    "id": "uZlliCLA1AQk",
    "outputId": "dd3e5b94-70ea-46a3-e018-c4692f03cf76"
   },
   "outputs": [],
   "source": [
    "from glove import Corpus, Glove\n",
    "\n",
    "corpus = Corpus()\n",
    "corpus.fit(new_lines, window=10)\n",
    "glove = Glove(no_components=100, learning_rate=0.05)\n",
    "glove.fit(corpus.matrix, epochs=10, no_threads=4)\n",
    "glove.add_dictionary(corpus.dictionary)\n",
    "glove.save('glove.model')"
   ]
  },
  {
   "cell_type": "code",
   "execution_count": 10,
   "metadata": {
    "colab": {
     "base_uri": "https://localhost:8080/"
    },
    "id": "sJVBmiXe6e31",
    "outputId": "8de3f31a-7f24-485b-9b61-1de9b02555ef"
   },
   "outputs": [
    {
     "data": {
      "text/plain": [
       "array([-0.04421729,  0.18267403,  0.25086219, -0.21114061, -0.14021073,\n",
       "       -0.21776842, -0.13140362,  0.61727947, -0.17670239,  0.19776792,\n",
       "       -0.18079518,  0.23228868,  0.17907996, -0.124648  , -0.40340264,\n",
       "       -0.21796505, -0.20940903, -0.23320743, -0.28234092,  0.22330508,\n",
       "        0.15390371,  0.10967265,  0.10767914,  0.1873209 , -0.26771225,\n",
       "       -0.22527584, -0.20885903,  0.21078986,  0.18553857, -0.19101965,\n",
       "        0.17549314, -0.23356201, -0.15906799,  0.2273057 ,  0.22433793,\n",
       "       -0.45046735,  0.07604831, -0.1051392 ,  0.00792878, -0.27332189,\n",
       "        0.20514385, -0.21763607, -0.24295678,  0.36937107,  0.22080051,\n",
       "        0.21029055,  0.14096797, -0.22232749, -0.18059296,  0.18697981,\n",
       "        0.20184223, -0.00876615, -0.37131564,  0.1373215 , -0.0536519 ,\n",
       "        0.22494402, -0.21036147,  0.15974467,  0.24293971, -0.21494044,\n",
       "       -0.25832983,  0.16902282,  0.24164032, -0.2447431 , -0.20732377,\n",
       "       -0.23164013,  0.21250464, -0.01924634, -0.20141475, -0.15254656,\n",
       "       -0.13561968,  0.14081904, -0.3611992 ,  0.06233414, -0.19963099,\n",
       "       -0.14415553,  0.17409468,  0.42688623,  0.13203596,  0.26876637,\n",
       "       -0.23020909,  0.20146894,  0.19440357,  0.15913574, -0.18084562,\n",
       "       -0.24218803, -0.15684698, -0.28672282,  0.19896722,  0.10904523,\n",
       "        0.13992682,  0.20612008, -0.28552142,  0.18459839,  0.19094966,\n",
       "        0.22779418, -0.32278349, -0.22930929, -0.03920912, -0.12988174])"
      ]
     },
     "execution_count": 10,
     "metadata": {},
     "output_type": "execute_result"
    }
   ],
   "source": [
    "glove.word_vectors[glove.dictionary['အဆင်ပြေ']]"
   ]
  },
  {
   "cell_type": "code",
   "execution_count": 11,
   "metadata": {},
   "outputs": [],
   "source": [
    "glove.save(\"glove.model\")"
   ]
  },
  {
   "cell_type": "markdown",
   "metadata": {},
   "source": [
    "## Test GloVe"
   ]
  },
  {
   "cell_type": "code",
   "execution_count": 12,
   "metadata": {},
   "outputs": [],
   "source": [
    "glove = Glove.load('glove.model')\n",
    "word_vectors = glove.word_vectors\n",
    "words = list(glove.dictionary.keys())"
   ]
  },
  {
   "cell_type": "code",
   "execution_count": 13,
   "metadata": {},
   "outputs": [],
   "source": [
    "import numpy as np\n",
    "def find_most_similar_words(word, word_vectors, words, top_n=10):\n",
    "    if word in words:\n",
    "        target_vector = word_vectors[words.index(word)]\n",
    "\n",
    "        similarities = np.dot(word_vectors, target_vector) / (np.linalg.norm(word_vectors, axis=1) * np.linalg.norm(target_vector))\n",
    "\n",
    "        most_similar_indices = np.argsort(similarities)[::-1][1:top_n + 1]\n",
    "\n",
    "        most_similar_words = [words[idx] for idx in most_similar_indices]\n",
    "        most_similar_scores = [similarities[idx] for idx in most_similar_indices]\n",
    "\n",
    "        return most_similar_words, most_similar_scores\n",
    "    else:\n",
    "        return [], []"
   ]
  },
  {
   "cell_type": "code",
   "execution_count": 14,
   "metadata": {},
   "outputs": [
    {
     "data": {
      "text/plain": [
       "(['COVID-19',\n",
       "  'ကာကွယ်ဆေး',\n",
       "  'ကပ်ရောဂါ',\n",
       "  'ကူးစက်မှု',\n",
       "  '၁၉',\n",
       "  'ကူးစက်',\n",
       "  'ဒုတိယလှိုင်း',\n",
       "  'ဗိုင်းရပ်စ်',\n",
       "  'လူနာ',\n",
       "  'ရောဂါ'],\n",
       " [0.8620038352900334,\n",
       "  0.8532914102688138,\n",
       "  0.8228918117449574,\n",
       "  0.8171182929907695,\n",
       "  0.8148454724892615,\n",
       "  0.7963525132562428,\n",
       "  0.7957417817330894,\n",
       "  0.7949038460626193,\n",
       "  0.7943636634316547,\n",
       "  0.7865548982898117])"
      ]
     },
     "execution_count": 14,
     "metadata": {},
     "output_type": "execute_result"
    }
   ],
   "source": [
    "input_word = 'ကိုဗစ်'\n",
    "top_n = 10\n",
    "most_similar_words, most_similar_scores = find_most_similar_words(input_word, word_vectors, words, top_n)\n",
    "most_similar_words, most_similar_scores"
   ]
  },
  {
   "cell_type": "code",
   "execution_count": 15,
   "metadata": {},
   "outputs": [
    {
     "data": {
      "text/plain": [
       "(['တောင်းဆို',\n",
       "  'ဖိတ်ခေါ်',\n",
       "  'အကြံပြု',\n",
       "  'ဆုတောင်း',\n",
       "  'ထောက်ပြ',\n",
       "  'အားပေး',\n",
       "  'အသိပေး',\n",
       "  'သုံးသပ်',\n",
       "  'ထောက်ခံ',\n",
       "  'တင်ပြ'],\n",
       " [0.9220169310550848,\n",
       "  0.9166036708012631,\n",
       "  0.8844084753786453,\n",
       "  0.8687520507147478,\n",
       "  0.8654748325435974,\n",
       "  0.8557186018591013,\n",
       "  0.8555681797406425,\n",
       "  0.8551415561334725,\n",
       "  0.8546452454454045,\n",
       "  0.8538533510476346])"
      ]
     },
     "execution_count": 15,
     "metadata": {},
     "output_type": "execute_result"
    }
   ],
   "source": [
    "input_word = 'တိုက်တွန်း'\n",
    "top_n = 10\n",
    "most_similar_words, most_similar_scores = find_most_similar_words(input_word, word_vectors, words, top_n)\n",
    "most_similar_words, most_similar_scores"
   ]
  },
  {
   "cell_type": "code",
   "execution_count": null,
   "metadata": {},
   "outputs": [],
   "source": []
  }
 ],
 "metadata": {
  "accelerator": "GPU",
  "colab": {
   "gpuType": "T4",
   "provenance": []
  },
  "kernelspec": {
   "display_name": "python3",
   "language": "python",
   "name": "python3"
  },
  "language_info": {
   "codemirror_mode": {
    "name": "ipython",
    "version": 3
   },
   "file_extension": ".py",
   "mimetype": "text/x-python",
   "name": "python",
   "nbconvert_exporter": "python",
   "pygments_lexer": "ipython3",
   "version": "3.10.9"
  }
 },
 "nbformat": 4,
 "nbformat_minor": 1
}
